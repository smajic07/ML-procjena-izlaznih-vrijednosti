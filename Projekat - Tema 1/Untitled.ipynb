{
 "cells": [
  {
   "cell_type": "code",
   "execution_count": 1,
   "id": "a5199ab5",
   "metadata": {},
   "outputs": [],
   "source": [
    "# Neophodne biblioteke: \n",
    "\n",
    "# math je biblioteka potrebna zbog funkcije math.isnan(e), fja prihvata float argument e i kao rezultat vraća\n",
    "# boolean vrijednost koja govori da li je argument e nan (tj. nedefinisana vrijednost)\n",
    "import math\n",
    "# pandas je open source Python paket koji koristim za analizu podataka\n",
    "import pandas as pd\n",
    "# numpy je open source Python paket za nizove koji olakšavaju napredne matematičke i druge vrste operacija na\n",
    "# velikom broju podataka\n",
    "import numpy as np"
   ]
  },
  {
   "cell_type": "code",
   "execution_count": 2,
   "id": "78a836d9",
   "metadata": {},
   "outputs": [
    {
     "data": {
      "text/plain": [
       "array([['C', 5.86, 11.59, ..., ' 50.87', ' 11.72', 5.578],\n",
       "       ['B', 5.54, 56.06, ..., ' 76.01', ' 11.08', 32.45],\n",
       "       ['C', 70.21, 69.1, ..., ' 79.92', ' 140.42', 7.589],\n",
       "       ...,\n",
       "       ['A', 32.3, 54.55, ..., ' 213213116.34', ' 64.6', 32.3],\n",
       "       ['A', 39.2, 28.94, ..., ' 94.28', ' 78.4', 39.2],\n",
       "       ['A', 11.8, 38.51, ..., ' 82.47', ' 23.6', 11.8]], dtype=object)"
      ]
     },
     "execution_count": 2,
     "metadata": {},
     "output_type": "execute_result"
    }
   ],
   "source": [
    "# Učitavanje podataka: \n",
    "\n",
    "# pretvaranje dataset-a 'data.csv' u matricu (niz nizova) i dodijeljivanje varijabli copy_data\n",
    "data_copy = pd.read_csv('data.csv').to_numpy()\n",
    "# primjetimo da su polja nulte, četvrte i pete kolone stringovne vrijednosti, dok su polja preostalih kolona float vrijednosti\n",
    "data_copy"
   ]
  },
  {
   "cell_type": "code",
   "execution_count": 3,
   "id": "2880160c",
   "metadata": {
    "scrolled": false
   },
   "outputs": [
    {
     "name": "stdout",
     "output_type": "stream",
     "text": [
      "Red 371 - U zadnjoj koloni: Imamo polje koje je prazno \n",
      "\n",
      "Red 371 - Ovaj red ne dodajemo jer ima loše definisanu nultu ili zadnju kolonu \n",
      "\n",
      "Red 372 - U zadnjoj koloni: Imamo polje koje je prazno \n",
      "\n",
      "Red 372 - Ovaj red ne dodajemo jer ima loše definisanu nultu ili zadnju kolonu \n",
      "\n",
      "Red 401 - Između nulte i šeste kolone: Imamo polje koje je ili null, ili prazno \n",
      "\n",
      "Red 411 - Između nulte i šeste kolone: Imamo polje koje je ili null, ili prazno \n",
      "\n",
      "Red 430 - U nultoj koloni: Imamo polje koje je ili null, ili prazno, ili nije ni A, ni B, ni C \n",
      "\n",
      "Red 430 - Ovaj red ne dodajemo jer ima loše definisanu nultu ili zadnju kolonu \n",
      "\n",
      "Red 434 - U nultoj koloni: Imamo polje koje je ili null, ili prazno, ili nije ni A, ni B, ni C \n",
      "\n",
      "Red 434 - Ovaj red ne dodajemo jer ima loše definisanu nultu ili zadnju kolonu \n",
      "\n",
      "Red 435 - U nultoj koloni: Imamo polje koje je ili null, ili prazno, ili nije ni A, ni B, ni C \n",
      "\n",
      "Red 435 - Ovaj red ne dodajemo jer ima loše definisanu nultu ili zadnju kolonu \n",
      "\n",
      "Red 486 - U nultoj koloni: Imamo polje koje je ili null, ili prazno, ili nije ni A, ni B, ni C \n",
      "\n",
      "Red 486 - Ovaj red ne dodajemo jer ima loše definisanu nultu ili zadnju kolonu \n",
      "\n",
      "Red 496 - Između nulte i šeste kolone: Imamo polje koje je ili null, ili prazno \n",
      "\n",
      "Red 8453 - Između nulte i šeste kolone: Imamo polje koje je ili null, ili prazno \n",
      "\n",
      "Red 8652 - Između nulte i šeste kolone: Imamo polje koje je ili null, ili prazno \n",
      "\n",
      "Red 8961 - Između nulte i šeste kolone: Imamo polje koje je ili null, ili prazno \n",
      "\n",
      "Red 9491 - U zadnjoj koloni: Imamo polje koje je prazno \n",
      "\n",
      "Red 9491 - Ovaj red ne dodajemo jer ima loše definisanu nultu ili zadnju kolonu \n",
      "\n",
      "Red 9960 - U nultoj koloni: Imamo polje koje je ili null, ili prazno, ili nije ni A, ni B, ni C \n",
      "\n",
      "Red 9960 - Ovaj red ne dodajemo jer ima loše definisanu nultu ili zadnju kolonu \n",
      "\n"
     ]
    },
    {
     "data": {
      "text/plain": [
       "array([['C', '5.86', '11.59', ..., '50.87', '11.72', '5.578'],\n",
       "       ['B', '5.54', '56.06', ..., '76.01', '11.08', '32.45'],\n",
       "       ['C', '70.21', '69.1', ..., '79.92', '140.42', '7.589'],\n",
       "       ...,\n",
       "       ['A', '32.3', '54.55', ..., '213213116.34', '64.6', '32.3'],\n",
       "       ['A', '39.2', '28.94', ..., '94.28', '78.4', '39.2'],\n",
       "       ['A', '11.8', '38.51', ..., '82.47', '23.6', '11.8']], dtype='<U32')"
      ]
     },
     "execution_count": 3,
     "metadata": {},
     "output_type": "execute_result"
    }
   ],
   "source": [
    "# Detaljna analiza podataka: \n",
    "\n",
    "# postoje redovi koji imaju polja prve kolone prazna\n",
    "# -- takve redove sam izbacio iz dataset-a\n",
    "# postoje redovi koji imaju neprazna polja prve kolone različita od 'A', 'B' i 'C',\n",
    "# preciznije string 'F' se pojavljuje tačno jednom u polju prve kolone jednog reda\n",
    "# -- takve redove sam izbacio iz dataset-a\n",
    "\n",
    "# postoje redovi koji imaju prazna polja kolona mimo prve i zadnje\n",
    "# -- takvim redovima sam ta polja postavio na vrijednost 0, a kasnije kod dopunjavanja vrijednosti\n",
    "# -- sam im dodijelio aritmetičku sredinu preostalih redova koji nemaju vrijednost 0 u tom polju\n",
    "\n",
    "# postoje redovi koji imaju prazna polja zadnje kolone tj. imaju nedefinisane labele\n",
    "# -- takve redove sam izbacio iz dataset-a\n",
    "\n",
    "data = []\n",
    "redni_broj_reda = 2 # jer u excel fajlu 'data.csv' redovi počinju od druge kolone\n",
    "for row in data_copy:\n",
    "    new_row = []\n",
    "    i = 0\n",
    "    for element in row:\n",
    "        if i == 0: # nulta kolona\n",
    "            if (not element) or element == ' '  or (element != 'A' and element != 'B' and element != 'C'):\n",
    "                print(\"Red \" + str(redni_broj_reda) + \" - U nultoj koloni: Imamo polje koje je ili null, ili prazno, \" + \n",
    "                      \"ili nije ni A, ni B, ni C \\n\")\n",
    "                break\n",
    "            new_row.append(element)\n",
    "        elif i != 6: # između nulte i šeste kolone\n",
    "            if (not element) or element == ' ':\n",
    "                print(\"Red \" + str(redni_broj_reda) + \" - Između nulte i šeste kolone: Imamo polje koje je ili null, \" + \n",
    "                      \"ili prazno \\n\")\n",
    "                new_row.append(0)\n",
    "            else:\n",
    "                new_row.append(float(element))\n",
    "        else: # šesta kolona\n",
    "            if math.isnan(element):\n",
    "                print(\"Red \" + str(redni_broj_reda) + \" - U zadnjoj koloni: Imamo polje koje je prazno \\n\")\n",
    "                new_row = []\n",
    "                break\n",
    "            else:\n",
    "                new_row.append(float(element))\n",
    "        i += 1\n",
    "    if new_row == []: # u ovom slučaju ne dodajemo red u data-set\n",
    "        print(\"Red \" + str(redni_broj_reda) + \" - Ovaj red ne dodajemo jer ima loše definisanu nultu ili zadnju kolonu \\n\")\n",
    "        redni_broj_reda += 1\n",
    "        continue\n",
    "    redni_broj_reda += 1\n",
    "    data.append(new_row)\n",
    "\n",
    "data = np.array(data)\n",
    "data"
   ]
  },
  {
   "cell_type": "code",
   "execution_count": 4,
   "id": "d1d9fe5f",
   "metadata": {
    "scrolled": true
   },
   "outputs": [],
   "source": [
    "# Viška kolona: \n",
    "\n",
    "# predzadnja kolona u 'data.csv' je viška, jer predstavlja duple vrijednosti polja druge kolone\n",
    "# može se posmatrati i iz drugog ugla: druga kolona je viška jer predstavlja duplo manje vrijednosti polja predzadnje kolone\n",
    "# -- stoga sam posmatrao dataset bez predzadnje kolone\n",
    "\n",
    "X = data[:, :-2] # X uzima prvih 5 kolona svih filtriranih redova\n",
    "y = data[:, -1] # y uzima posljednju kolonu svih filtriranih redova"
   ]
  },
  {
   "cell_type": "code",
   "execution_count": 5,
   "id": "992e9259",
   "metadata": {},
   "outputs": [
    {
     "name": "stdout",
     "output_type": "stream",
     "text": [
      "9992 == 9992\n"
     ]
    }
   ],
   "source": [
    "## Testiranje podudaranja broja redova u X i y\n",
    "\n",
    "print(str(len(X)) + \" == \" + str(len(y)))\n",
    "\n",
    "# vidimo da je izbačeno samo 8 redova, i to izbačeni su samo oni redovi koji imaju prazno prvo polje ili prazno zadnje polje\n",
    "# te izbačen je jedan red koje u prvom polju ima string 'F', pretpostavljam da je to pogrešan unos"
   ]
  },
  {
   "cell_type": "code",
   "execution_count": 6,
   "id": "00d09bd5",
   "metadata": {
    "scrolled": true
   },
   "outputs": [
    {
     "name": "stdout",
     "output_type": "stream",
     "text": [
      "Trebam obrisati 1 redova u koloni4 \n",
      "Trebam obrisati 2 redova u labelama \n"
     ]
    },
    {
     "name": "stderr",
     "output_type": "stream",
     "text": [
      "C:\\Users\\Edin\\anaconda3\\lib\\site-packages\\seaborn\\_decorators.py:36: FutureWarning: Pass the following variable as a keyword arg: x. From version 0.12, the only valid positional argument will be `data`, and passing other arguments without an explicit keyword will result in an error or misinterpretation.\n",
      "  warnings.warn(\n"
     ]
    },
    {
     "data": {
      "image/png": "[encoded data removed]",
      "text/plain": [
       "<Figure size 432x288 with 1 Axes>"
      ]
     },
     "metadata": {
      "needs_background": "light"
     },
     "output_type": "display_data"
    }
   ],
   "source": [
    "# Detektovanje anomalija:\n",
    "\n",
    "# biblioteka potrebna za detekciju anomalija\n",
    "import seaborn as sns\n",
    "\n",
    "kolona1 = X[:, 1].astype(float)\n",
    "kolona1\n",
    "kolona2 = X[:, 2].astype(float)\n",
    "kolona2\n",
    "kolona3 = X[:, 3].astype(float)\n",
    "kolona3\n",
    "kolona4 = X[:, 4].astype(float)\n",
    "kolona4\n",
    "labele = y.astype(float)\n",
    "labele\n",
    "\n",
    "# grafički prikaz podataka, mijenjanjem paramtera fje boxplot, prikazuju se različiti podaci...\n",
    "sns.boxplot(labele)\n",
    "\n",
    "# ispod posebno posmatram odudarajuće podatke (anomalije) u 4oj koloni X-a i one u y-onu\n",
    "# jer boxplot ne prikaže dobro interval za njihove neodudarajuće podatke \n",
    "\n",
    "# ovdje sam testirao anomalije u petoj po redu koloni u X-u tj. onu sa indeksom 4\n",
    "\n",
    "brojac = 0\n",
    "for i in range(len(X)):\n",
    "    if 200 < float(X[i][4]):\n",
    "        brojac += 1\n",
    "print(\"Trebam obrisati \" + str(brojac) + \" redova u koloni4 \")\n",
    "\n",
    "# ovdje sam testirao anomalije u y-onu\n",
    "\n",
    "brojac = 0\n",
    "for i in range(len(y)):\n",
    "    if 2000 < float(y[i]):\n",
    "        brojac += 1\n",
    "print(\"Trebam obrisati \" + str(brojac) + \" redova u labelama \")"
   ]
  },
  {
   "cell_type": "code",
   "execution_count": 7,
   "id": "5b108ca7",
   "metadata": {},
   "outputs": [
    {
     "name": "stdout",
     "output_type": "stream",
     "text": [
      "Obrisati ću 312 redova \n"
     ]
    }
   ],
   "source": [
    "# Uklanjanje anomalija:\n",
    "indeksi_za_obrisati = []\n",
    "for i in range(len(X)):\n",
    "    if float(X[i][1]) < 0 or float(X[i][1]) > 100:\n",
    "        indeksi_za_obrisati.append(i)\n",
    "    elif float(X[i][2]) < -45 or float(X[i][2]) > 100:\n",
    "        indeksi_za_obrisati.append(i)\n",
    "    elif float(X[i][3]) < 0 or float(X[i][3]) > 100:\n",
    "        indeksi_za_obrisati.append(i)\n",
    "    elif float(X[i][4]) < 0 or float(X[i][4]) > 200:\n",
    "        indeksi_za_obrisati.append(i)\n",
    "    elif float(y[i]) < 0 or float(y[i]) > 2000:\n",
    "        indeksi_za_obrisati.append(i)\n",
    "        \n",
    "print(\"Obrisati ću \" + str(len(indeksi_za_obrisati)) + \" redova \")"
   ]
  },
  {
   "cell_type": "code",
   "execution_count": 8,
   "id": "bfec712c",
   "metadata": {},
   "outputs": [],
   "source": [
    "X = np.delete(X, indeksi_za_obrisati, axis = 0)\n",
    "y = np.delete(y, indeksi_za_obrisati, axis = 0)"
   ]
  },
  {
   "cell_type": "code",
   "execution_count": 9,
   "id": "874207d8",
   "metadata": {},
   "outputs": [
    {
     "name": "stdout",
     "output_type": "stream",
     "text": [
      "Obrisati ću 1209 redova \n"
     ]
    },
    {
     "name": "stderr",
     "output_type": "stream",
     "text": [
      "C:\\Users\\Edin\\anaconda3\\lib\\site-packages\\seaborn\\_decorators.py:36: FutureWarning: Pass the following variable as a keyword arg: x. From version 0.12, the only valid positional argument will be `data`, and passing other arguments without an explicit keyword will result in an error or misinterpretation.\n",
      "  warnings.warn(\n"
     ]
    },
    {
     "data": {
      "image/png": "[encoded data removed]",
      "text/plain": [
       "<Figure size 432x288 with 1 Axes>"
      ]
     },
     "metadata": {
      "needs_background": "light"
     },
     "output_type": "display_data"
    }
   ],
   "source": [
    "# Ponovno detektovanje anomalija:\n",
    "\n",
    "# ponovno posmatranje odudarajućih podataka za 4tu X kolonu i labele tj. y\n",
    "# jer ih boxplot nije mogao fino prikazati zbog nekih jako odudarajućih podataka koje sam uklonio iznad...\n",
    "\n",
    "kolona4 = X[:, 4].astype(float)\n",
    "kolona4\n",
    "labele = y.astype(float)\n",
    "labele\n",
    "sns.boxplot(labele)\n",
    "\n",
    "indeksi_za_obrisati = []\n",
    "for i in range(len(X)):\n",
    "    if float(X[i][4]) > 100:\n",
    "        indeksi_za_obrisati.append(i)\n",
    "    elif float(y[i]) > 70:\n",
    "        indeksi_za_obrisati.append(i)\n",
    "        \n",
    "print(\"Obrisati ću \" + str(len(indeksi_za_obrisati)) + \" redova \")"
   ]
  },
  {
   "cell_type": "code",
   "execution_count": 10,
   "id": "575c8aa2",
   "metadata": {},
   "outputs": [],
   "source": [
    "# Ponovno uklanjanje anomalija:\n",
    "X = np.delete(X, indeksi_za_obrisati, axis = 0)\n",
    "y = np.delete(y, indeksi_za_obrisati, axis = 0)"
   ]
  },
  {
   "cell_type": "code",
   "execution_count": 11,
   "id": "5e06053a",
   "metadata": {},
   "outputs": [
    {
     "data": {
      "text/plain": [
       "array([['C', '5.86', '11.59', '75.54', '50.87'],\n",
       "       ['B', '5.54', '56.06', '36.59', '76.01'],\n",
       "       ['C', '70.21', '69.1', '47.9', '79.92'],\n",
       "       ...,\n",
       "       ['B', '80.16', '98.09', '69.2', '60.94'],\n",
       "       ['A', '39.2', '28.94', '22.67', '94.28'],\n",
       "       ['A', '11.8', '38.51', '2.15', '82.47']], dtype='<U32')"
      ]
     },
     "execution_count": 11,
     "metadata": {},
     "output_type": "execute_result"
    }
   ],
   "source": [
    "# Dopunjavanje vrijednosti \n",
    "from sklearn.impute import SimpleImputer\n",
    "\n",
    "# postoje redovi koji imaju prazna polja kolona mimo prve i zadnje\n",
    "# -- takvim redovima sam ta polja postavio na vrijednost 0, a ovdje kod dopunjavanja vrijednosti\n",
    "# -- sam im dodijelio vrijednost aritmetičke sredine preostalih redova koji nemaju vrijednost 0 u tom polju\n",
    "imputer = SimpleImputer(missing_values = 0, strategy = 'mean')\n",
    "imputer.fit(X[:, 1:6])\n",
    "X[:, 1:6] = imputer.transform(X[:, 1:6])\n",
    "X"
   ]
  },
  {
   "cell_type": "code",
   "execution_count": 12,
   "id": "df284d4c",
   "metadata": {},
   "outputs": [
    {
     "data": {
      "text/plain": [
       "array(['0.0', '0.0', '1.0', '5.86', '11.59', '75.54', '50.87'],\n",
       "      dtype='<U32')"
      ]
     },
     "execution_count": 12,
     "metadata": {},
     "output_type": "execute_result"
    }
   ],
   "source": [
    "# Kategorički podaci\n",
    "from sklearn.compose import ColumnTransformer\n",
    "from sklearn.preprocessing import OneHotEncoder\n",
    "\n",
    "# postoje tri kategorije koje odgovaraju poljima nulte kolone i to stringovi 'A', 'B' i 'C'\n",
    "# stoga nultu kolonu enkodiram koristeći OneHotEncoder(), kako bi polja svih kolona bila numerički podaci\n",
    "ct = ColumnTransformer(transformers = [('encoder', OneHotEncoder(), [0])], remainder='passthrough')\n",
    "X = ct.fit_transform(X)\n",
    "X[0]"
   ]
  },
  {
   "cell_type": "code",
   "execution_count": 13,
   "id": "36e628d3",
   "metadata": {},
   "outputs": [],
   "source": [
    "# Train-test split\n",
    "from sklearn.model_selection import train_test_split\n",
    "\n",
    "# odvajanje podataka u dvije skupine: \n",
    "# 1. train (treniramo algoritam nad ovim podacima)\n",
    "# 2. test (testiramo efikanost istreniranog algoritma nad ovim podacima)\n",
    "X_train, X_test, y_train, y_test = train_test_split(X, y, test_size=0.3, random_state=42)"
   ]
  },
  {
   "cell_type": "code",
   "execution_count": 14,
   "id": "59efaf1f",
   "metadata": {},
   "outputs": [],
   "source": [
    "# Feature scaling\n",
    "from sklearn.preprocessing import StandardScaler\n",
    "\n",
    "# skaliranje podataka radi brže konvergencije, ne radimo to za prve 3 kolone, jer su to biti dobijeni\n",
    "# primjenom OneHotEncoder()-a...\n",
    "sc = StandardScaler()\n",
    "X_train[:, 3:] = sc.fit_transform(X_train[:, 3:])\n",
    "X_test[:, 3:] = sc.transform(X_test[:, 3:])"
   ]
  },
  {
   "cell_type": "code",
   "execution_count": 15,
   "id": "6b36e9e4",
   "metadata": {},
   "outputs": [
    {
     "name": "stderr",
     "output_type": "stream",
     "text": [
      "C:\\Users\\Edin\\anaconda3\\lib\\site-packages\\sklearn\\utils\\validation.py:63: FutureWarning: Arrays of bytes/strings is being converted to decimal numbers if dtype='numeric'. This behavior is deprecated in 0.24 and will be removed in 1.1 (renaming of 0.26). Please convert your data to numeric values explicitly instead.\n",
      "  return f(*args, **kwargs)\n",
      "C:\\Users\\Edin\\anaconda3\\lib\\site-packages\\sklearn\\utils\\validation.py:63: FutureWarning: Arrays of bytes/strings is being converted to decimal numbers if dtype='numeric'. This behavior is deprecated in 0.24 and will be removed in 1.1 (renaming of 0.26). Please convert your data to numeric values explicitly instead.\n",
      "  return f(*args, **kwargs)\n"
     ]
    }
   ],
   "source": [
    "# KNN algoritam\n",
    "from sklearn.neighbors import KNeighborsClassifier\n",
    "\n",
    "clf = KNeighborsClassifier()\n",
    "clf.fit(X_train,y_train)\n",
    "predictions = clf.predict(X_test)"
   ]
  },
  {
   "cell_type": "code",
   "execution_count": 16,
   "id": "ee7253a0",
   "metadata": {
    "scrolled": true
   },
   "outputs": [
    {
     "name": "stderr",
     "output_type": "stream",
     "text": [
      "C:\\Users\\Edin\\anaconda3\\lib\\site-packages\\sklearn\\utils\\validation.py:63: FutureWarning: Arrays of bytes/strings is being converted to decimal numbers if dtype='numeric'. This behavior is deprecated in 0.24 and will be removed in 1.1 (renaming of 0.26). Please convert your data to numeric values explicitly instead.\n",
      "  return f(*args, **kwargs)\n",
      "C:\\Users\\Edin\\anaconda3\\lib\\site-packages\\sklearn\\utils\\validation.py:63: FutureWarning: Arrays of bytes/strings is being converted to decimal numbers if dtype='numeric'. This behavior is deprecated in 0.24 and will be removed in 1.1 (renaming of 0.26). Please convert your data to numeric values explicitly instead.\n",
      "  return f(*args, **kwargs)\n",
      "C:\\Users\\Edin\\anaconda3\\lib\\site-packages\\sklearn\\utils\\validation.py:63: FutureWarning: Arrays of bytes/strings is being converted to decimal numbers if dtype='numeric'. This behavior is deprecated in 0.24 and will be removed in 1.1 (renaming of 0.26). Please convert your data to numeric values explicitly instead.\n",
      "  return f(*args, **kwargs)\n",
      "C:\\Users\\Edin\\anaconda3\\lib\\site-packages\\sklearn\\utils\\validation.py:63: FutureWarning: Arrays of bytes/strings is being converted to decimal numbers if dtype='numeric'. This behavior is deprecated in 0.24 and will be removed in 1.1 (renaming of 0.26). Please convert your data to numeric values explicitly instead.\n",
      "  return f(*args, **kwargs)\n"
     ]
    },
    {
     "data": {
      "text/plain": [
       "3.8270594020456326"
      ]
     },
     "execution_count": 16,
     "metadata": {},
     "output_type": "execute_result"
    }
   ],
   "source": [
    "from sklearn.metrics import mean_absolute_error, mean_squared_error\n",
    "\n",
    "# Greška KNN-a\n",
    "absulutna_greska_1 = mean_absolute_error(y_test, predictions)\n",
    "kvadratna_greska_1 = mean_squared_error(y_test, predictions)\n",
    "kvadratna_greska_1\n",
    "absulutna_greska_1"
   ]
  },
  {
   "cell_type": "code",
   "execution_count": 17,
   "id": "0c5072ba",
   "metadata": {},
   "outputs": [
    {
     "data": {
      "text/plain": [
       "array([ 5.82981947,  5.21128278, 48.24562793, ...,  8.99981743,\n",
       "       11.19061693, 21.53023692])"
      ]
     },
     "execution_count": 17,
     "metadata": {},
     "output_type": "execute_result"
    }
   ],
   "source": [
    "# SVR algoritam\n",
    "from sklearn.svm import SVR\n",
    "\n",
    "clf2 = SVR()\n",
    "clf2.fit(X_train,y_train)\n",
    "predictions2 = clf2.predict(X_test)\n",
    "predictions2"
   ]
  },
  {
   "cell_type": "code",
   "execution_count": 18,
   "id": "f20fe6fc",
   "metadata": {},
   "outputs": [
    {
     "name": "stderr",
     "output_type": "stream",
     "text": [
      "C:\\Users\\Edin\\anaconda3\\lib\\site-packages\\sklearn\\utils\\validation.py:63: FutureWarning: Arrays of bytes/strings is being converted to decimal numbers if dtype='numeric'. This behavior is deprecated in 0.24 and will be removed in 1.1 (renaming of 0.26). Please convert your data to numeric values explicitly instead.\n",
      "  return f(*args, **kwargs)\n",
      "C:\\Users\\Edin\\anaconda3\\lib\\site-packages\\sklearn\\utils\\validation.py:63: FutureWarning: Arrays of bytes/strings is being converted to decimal numbers if dtype='numeric'. This behavior is deprecated in 0.24 and will be removed in 1.1 (renaming of 0.26). Please convert your data to numeric values explicitly instead.\n",
      "  return f(*args, **kwargs)\n"
     ]
    },
    {
     "data": {
      "text/plain": [
       "2.221044166969768"
      ]
     },
     "execution_count": 18,
     "metadata": {},
     "output_type": "execute_result"
    }
   ],
   "source": [
    "# Greška SVR-a\n",
    "absulutna_greska_2 = mean_absolute_error(y_test, predictions2)\n",
    "kvadratna_greska_2 = mean_squared_error(y_test, predictions2)\n",
    "kvadratna_greska_2\n",
    "absulutna_greska_2"
   ]
  },
  {
   "cell_type": "code",
   "execution_count": 19,
   "id": "0534170e",
   "metadata": {},
   "outputs": [
    {
     "data": {
      "text/plain": [
       "array([ 5.545,  5.075, 47.76 , ...,  8.383, 13.875, 37.401])"
      ]
     },
     "execution_count": 19,
     "metadata": {},
     "output_type": "execute_result"
    }
   ],
   "source": [
    "# DecisionTreeRegressor\n",
    "from sklearn.tree import DecisionTreeRegressor\n",
    "\n",
    "clf3 = DecisionTreeRegressor(random_state=0)\n",
    "clf3.fit(X_train,y_train)\n",
    "predictions3 = clf3.predict(X_test)\n",
    "predictions3"
   ]
  },
  {
   "cell_type": "code",
   "execution_count": 20,
   "id": "d241de70",
   "metadata": {},
   "outputs": [
    {
     "name": "stderr",
     "output_type": "stream",
     "text": [
      "C:\\Users\\Edin\\anaconda3\\lib\\site-packages\\sklearn\\utils\\validation.py:63: FutureWarning: Arrays of bytes/strings is being converted to decimal numbers if dtype='numeric'. This behavior is deprecated in 0.24 and will be removed in 1.1 (renaming of 0.26). Please convert your data to numeric values explicitly instead.\n",
      "  return f(*args, **kwargs)\n",
      "C:\\Users\\Edin\\anaconda3\\lib\\site-packages\\sklearn\\utils\\validation.py:63: FutureWarning: Arrays of bytes/strings is being converted to decimal numbers if dtype='numeric'. This behavior is deprecated in 0.24 and will be removed in 1.1 (renaming of 0.26). Please convert your data to numeric values explicitly instead.\n",
      "  return f(*args, **kwargs)\n"
     ]
    },
    {
     "data": {
      "text/plain": [
       "0.8454012588512982"
      ]
     },
     "execution_count": 20,
     "metadata": {},
     "output_type": "execute_result"
    }
   ],
   "source": [
    "# Greška DecisionTreeRegressor-a\n",
    "absulutna_greska_3 = mean_absolute_error(y_test, predictions3)\n",
    "kvadratna_greska_3 = mean_squared_error(y_test, predictions3)\n",
    "kvadratna_greska_3\n",
    "absulutna_greska_3"
   ]
  },
  {
   "cell_type": "code",
   "execution_count": 21,
   "id": "1d3228ab",
   "metadata": {},
   "outputs": [
    {
     "name": "stderr",
     "output_type": "stream",
     "text": [
      "C:\\Users\\Edin\\anaconda3\\lib\\site-packages\\sklearn\\utils\\validation.py:63: FutureWarning: Arrays of bytes/strings is being converted to decimal numbers if dtype='numeric'. This behavior is deprecated in 0.24 and will be removed in 1.1 (renaming of 0.26). Please convert your data to numeric values explicitly instead.\n",
      "  return f(*args, **kwargs)\n",
      "C:\\Users\\Edin\\anaconda3\\lib\\site-packages\\sklearn\\utils\\validation.py:63: FutureWarning: Arrays of bytes/strings is being converted to decimal numbers if dtype='numeric'. This behavior is deprecated in 0.24 and will be removed in 1.1 (renaming of 0.26). Please convert your data to numeric values explicitly instead.\n",
      "  return f(*args, **kwargs)\n"
     ]
    },
    {
     "data": {
      "text/plain": [
       "array([ 8.5078125, 10.1953125, 31.28125  , ..., 11.375    ,  7.640625 ,\n",
       "       14.7578125])"
      ]
     },
     "execution_count": 21,
     "metadata": {},
     "output_type": "execute_result"
    }
   ],
   "source": [
    "# LinearRegressor\n",
    "from sklearn.linear_model import LinearRegression\n",
    "clf4 = LinearRegression()\n",
    "clf4.fit(X_train,y_train)\n",
    "predictions4 = clf4.predict(X_test)\n",
    "predictions4"
   ]
  },
  {
   "cell_type": "code",
   "execution_count": 22,
   "id": "4d1c4f41",
   "metadata": {},
   "outputs": [
    {
     "name": "stderr",
     "output_type": "stream",
     "text": [
      "C:\\Users\\Edin\\anaconda3\\lib\\site-packages\\sklearn\\utils\\validation.py:63: FutureWarning: Arrays of bytes/strings is being converted to decimal numbers if dtype='numeric'. This behavior is deprecated in 0.24 and will be removed in 1.1 (renaming of 0.26). Please convert your data to numeric values explicitly instead.\n",
      "  return f(*args, **kwargs)\n",
      "C:\\Users\\Edin\\anaconda3\\lib\\site-packages\\sklearn\\utils\\validation.py:63: FutureWarning: Arrays of bytes/strings is being converted to decimal numbers if dtype='numeric'. This behavior is deprecated in 0.24 and will be removed in 1.1 (renaming of 0.26). Please convert your data to numeric values explicitly instead.\n",
      "  return f(*args, **kwargs)\n"
     ]
    },
    {
     "data": {
      "text/plain": [
       "8.242575457317074"
      ]
     },
     "execution_count": 22,
     "metadata": {},
     "output_type": "execute_result"
    }
   ],
   "source": [
    "# Greška LinearRegressor-a\n",
    "absulutna_greska_4 = mean_absolute_error(y_test, predictions4)\n",
    "kvadratna_greska_4 = mean_squared_error(y_test, predictions4)\n",
    "kvadratna_greska_4\n",
    "absulutna_greska_4"
   ]
  },
  {
   "cell_type": "code",
   "execution_count": 23,
   "id": "9ec5e973",
   "metadata": {},
   "outputs": [
    {
     "data": {
      "text/plain": [
       "array([ 5.8364,  5.0771, 47.726 , ...,  8.8661, 14.0418, 34.4162])"
      ]
     },
     "execution_count": 23,
     "metadata": {},
     "output_type": "execute_result"
    }
   ],
   "source": [
    "# BaggingRegressor\n",
    "from sklearn.ensemble import BaggingRegressor\n",
    "clf5 = BaggingRegressor(random_state=0)\n",
    "clf5.fit(X_train,y_train)\n",
    "predictions5 = clf5.predict(X_test)\n",
    "predictions5"
   ]
  },
  {
   "cell_type": "code",
   "execution_count": 24,
   "id": "64bdab91",
   "metadata": {},
   "outputs": [
    {
     "data": {
      "text/plain": [
       "array(['5.739', '5.068', '47.71', ..., '8.824', '13.337', '32.359'],\n",
       "      dtype='<U32')"
      ]
     },
     "execution_count": 24,
     "metadata": {},
     "output_type": "execute_result"
    }
   ],
   "source": [
    "y_test"
   ]
  },
  {
   "cell_type": "code",
   "execution_count": 25,
   "id": "12d11b7e",
   "metadata": {},
   "outputs": [
    {
     "name": "stderr",
     "output_type": "stream",
     "text": [
      "C:\\Users\\Edin\\anaconda3\\lib\\site-packages\\sklearn\\utils\\validation.py:63: FutureWarning: Arrays of bytes/strings is being converted to decimal numbers if dtype='numeric'. This behavior is deprecated in 0.24 and will be removed in 1.1 (renaming of 0.26). Please convert your data to numeric values explicitly instead.\n",
      "  return f(*args, **kwargs)\n",
      "C:\\Users\\Edin\\anaconda3\\lib\\site-packages\\sklearn\\utils\\validation.py:63: FutureWarning: Arrays of bytes/strings is being converted to decimal numbers if dtype='numeric'. This behavior is deprecated in 0.24 and will be removed in 1.1 (renaming of 0.26). Please convert your data to numeric values explicitly instead.\n",
      "  return f(*args, **kwargs)\n"
     ]
    },
    {
     "data": {
      "text/plain": [
       "0.494270613690008"
      ]
     },
     "execution_count": 25,
     "metadata": {},
     "output_type": "execute_result"
    }
   ],
   "source": [
    "# Greška BaggingRegressor-a\n",
    "absulutna_greska_5 = mean_absolute_error(y_test, predictions5)\n",
    "kvadratna_greska_5 = mean_squared_error(y_test, predictions5)\n",
    "kvadratna_greska_5\n",
    "absulutna_greska_5"
   ]
  },
  {
   "cell_type": "code",
   "execution_count": 26,
   "id": "541550fe",
   "metadata": {},
   "outputs": [
    {
     "data": {
      "image/png": "[encoded data removed]",
      "text/plain": [
       "<Figure size 432x288 with 1 Axes>"
      ]
     },
     "metadata": {
      "needs_background": "light"
     },
     "output_type": "display_data"
    }
   ],
   "source": [
    "# Grafički prikaz rezultata:\n",
    "\n",
    "# neophodna biblioteka za iscrtavanje\n",
    "import matplotlib.pyplot as plt\n",
    "\n",
    "# ispod kupim prvih 50 predikcija iz BaggingTreeRegressor-a, te 50 stvarnih vrijednosti za te redove\n",
    "# te predikcije iscrtavam crvenom bojom, a stvarne vrijednosti zelenom bojom\n",
    "# vidimo da je većina zelenih kružića 'preklopila' crvene kružiće, jer su predikcije odlične\n",
    "# dok postoje poneki zeleni kružići koji su iznad ili ispod crvenih, jer predikcije malo odstupaju od stvarnih vrijednosti\n",
    "# zašto samo 50 predikcija iscrtavam? Jer iscrtavanjem svih predikcija, kojih ima preko 1500, nije toliko fina preglednost\n",
    "# U čeliji ispod ove uradio sam i to, tj. iscrtao sve predikcije i stvarne y_test vrijednosti\n",
    "boje = []\n",
    "yoni = []\n",
    "for i in range(50):\n",
    "    boje.append('red')\n",
    "    yoni.append(predictions5[i])\n",
    "for i in range(50):\n",
    "    boje.append('green')\n",
    "    yoni.append(y_test[i])\n",
    "xovi = []\n",
    "for i in range(50):\n",
    "    xovi.append(i)\n",
    "for i in range(50):\n",
    "    xovi.append(i)\n",
    "\n",
    "plt.scatter(xovi, yoni, c=boje)\n",
    "plt.show()"
   ]
  },
  {
   "cell_type": "code",
   "execution_count": 27,
   "id": "50d27b0d",
   "metadata": {},
   "outputs": [
    {
     "data": {
      "image/png": "[encoded data removed]",
      "text/plain": [
       "<Figure size 432x288 with 1 Axes>"
      ]
     },
     "metadata": {
      "needs_background": "light"
     },
     "output_type": "display_data"
    }
   ],
   "source": [
    "# Iscrtavanje svih predikcija i stvarnih y_test vrijednosti\n",
    "boje = []\n",
    "yoni = []\n",
    "for i in range(len(predictions5)):\n",
    "    boje.append('red')\n",
    "    yoni.append(predictions5[i])\n",
    "for i in range(len(predictions5)):\n",
    "    boje.append('green')\n",
    "    yoni.append(y_test[i])\n",
    "xovi = []\n",
    "for i in range(len(predictions5)):\n",
    "    xovi.append(i)\n",
    "for i in range(len(predictions5)):\n",
    "    xovi.append(i)\n",
    "\n",
    "plt.scatter(xovi, yoni, c=boje)\n",
    "plt.show()"
   ]
  }
 ],
 "metadata": {
  "kernelspec": {
   "display_name": "Python 3 (ipykernel)",
   "language": "python",
   "name": "python3"
  },
  "language_info": {
   "codemirror_mode": {
    "name": "ipython",
    "version": 3
   },
   "file_extension": ".py",
   "mimetype": "text/x-python",
   "name": "python",
   "nbconvert_exporter": "python",
   "pygments_lexer": "ipython3",
   "version": "3.9.7"
  }
 },
 "nbformat": 4,
 "nbformat_minor": 5
}
